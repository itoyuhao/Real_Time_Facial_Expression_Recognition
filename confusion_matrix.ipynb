{
 "cells": [
  {
   "cell_type": "code",
   "execution_count": null,
   "metadata": {},
   "outputs": [],
   "source": [
    "columns = # [0, 1, 2, 3, 4, 5, 6] or ['angry', 'disgust', 'fear', 'happy', 'neutral', 'sad', 'surprise']\n",
    "true_labels = # [2, 1, ...., 2] or ['fear', 'disgust', ...., 'fear']  ## both numpy array and list can work\n",
    "predicted_labels = # [2, 3, ...., 2] or ['fear', 'happy', ...., 'fear']  ## both numpy array and list can work\n",
    "\n",
    "from sklearn.metrics import confusion_matrix  \n",
    "import numpy as np\n",
    "import pandas as pd\n",
    "import seaborn as sns\n",
    "import matplotlib.pyplot as plt\n",
    "\n",
    "def create_confmat(true_labels, predicted_labels, columns, colour = 'Greens', size = (20,14)):\n",
    "    sns.set(font_scale=1.5)\n",
    "    cm = confusion_matrix(true_labels, predicted_labels) \n",
    "    cm_df = pd.DataFrame(cm,\n",
    "    index = [col for col in columns], \n",
    "    columns = [col for col in columns])\n",
    "    plt.figure(figsize=(18,16))\n",
    "    sns.heatmap(cm_df, annot = True, cmap = colour, fmt='g', linewidths=.2)\n",
    "    plt.title('Confusion Matrix', fontsize = 20)\n",
    "    plt.ylabel('True label', fontsize = 18)\n",
    "    plt.xlabel('Predicted label', fontsize = 18)\n",
    "    plt.tick_params(axis='both', labelsize=14)\n",
    "    plt.show()      \n",
    "    \n",
    "create_confmat(true_labels, predicted_labels, columns, colour = 'Greens', size = (20,14))"
   ]
  }
 ],
 "metadata": {
  "kernelspec": {
   "display_name": "Python 3",
   "language": "python",
   "name": "python3"
  },
  "language_info": {
   "codemirror_mode": {
    "name": "ipython",
    "version": 3
   },
   "file_extension": ".py",
   "mimetype": "text/x-python",
   "name": "python",
   "nbconvert_exporter": "python",
   "pygments_lexer": "ipython3",
   "version": "3.8.5"
  }
 },
 "nbformat": 4,
 "nbformat_minor": 4
}
